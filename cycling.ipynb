{
 "cells": [
  {
   "cell_type": "code",
   "execution_count": 3,
   "metadata": {},
   "outputs": [
    {
     "name": "stdout",
     "output_type": "stream",
     "text": [
      "Found 446 existing routes in directory 'tracks'...\n",
      "Checking 25 routes from RWGPS for missing routes\n",
      "['11764387', '11775438', '11776097', '12179465', '12671150', '12688340', '12688604', '12688676', '12688698', '12689060', '12689154', '13008233', '13014266', '13016694', '13456204', '13513246', '13513281', '13930011', '14001770', '14085886', '14490288', '14556011', '14698114', '14698353', '14698504', '14777365', '15991343', '15992257', '16486265', '16855624', '16944678', '17286115', '17419435', '17419790', '17540056', '17636490', '17637149', '17637327', '17858346', '17958460', '17999406', '17999469', '18384108', '18384169', '18726535', '18832720', '18863046', '18874850', '18875008', '18875133', '18875405', '18875715', '18876426', '18876655', '18888567', '18895184', '18895945', '18926319', '18967242', '19038800', '19204584', '19252546', '19778991', '19786977', '19787269', '19945279', '20208363', '20208477', '20209022', '20211004', '20286398', '20348462', '20714803', '20748723', '20836201', '20836608', '20848852', '21021376', '21067600', '21067643', '21067707', '23109478', '23338514', '23338533', '23602066', '23757927', '23818899', '23938391', '24103078', '24165358', '24346331', '24573865', '24727622', '24790885', '25516268', '25516340', '25516495', '25689915', '26426639', '26465289', '26487841', '26518895', '26680494', '26863238', '26872645', '27015812', '27015874', '27075679', '27119848', '27207910', '27231329', '27249523', '27362943', '27363021', '27394168', '27394197', '27423851', '27492308', '27591050', '27591051', '27591052', '27591053', '27591054', '27591055', '27591056', '27591058', '27591059', '27591060', '27931032', '27931178', '27931275', '28030140', '28207875', '28249741', '28263576', '28272643', '28354875', '28487009', '28488953', '28636261', '28743281', '28764176', '28789406', '29022566', '29092953', '29093015', '29116088', '29206890', '29206896', '29333324', '29371322', '29371428', '29376041', '29682838', '29682853', '29682859', '29682865', '29682870', '29682874', '29882101', '29883040', '29883538', '30007329', '30041772', '30042002', '30153532', '30162721', '30165810', '30171756', '30179011', '30188808', '30189175', '30244820', '30282195', '30589978', '30676295', '30736239', '30762559', '30784268', '30842640', '30842773', '30890804', '30982839', '30983160', '30983357', '31010218', '31023486', '31113295', '31137752', '31137753', '31137754', '31137755', '31137756', '31137757', '31137758', '31137759', '31137760', '31137763', '31523429', '31562841', '31595082', '31620843', '31620869', '31620882', '31695062', '31722135', '31818889', '32127847', '32239853', '32248341', '32261801', '32278788', '32296101', '32303087', '32311183', '32319342', '32329146', '32348441', '32362319', '32397646', '32408351', '32425257', '32452516', '32455958', '32491544', '32517790', '32570698', '32607702', '32636123', '32646155', '32659290', '32669755', '32689454', '32742673', '32742740', '32790685', '32812967', '32820238', '32849073', '32894989', '32928009', '32931138', '32952516', '32963785', '32999728', '33023189', '33050097', '33083768', '33091116', '33159941', '33171058', '33171204', '33185148', '33196165', '33200062', '33221155', '33233044', '33317536', '33369673', '33375394', '33409241', '33466902', '33521352', '33581057', '33603551', '33649009', '33661841', '33740342', '33796052', '33867485', '33960649', '33967003', '34003480', '34086890', '34102218', '34137675', '34137928', '34163541', '34177689', '34179743', '34263400', '34269012', '34298049', '34368736', '34386968', '34391785', '34485470', '34503086', '34503192', '34528371', '34538091', '34600680', '34616808', '34647935', '34704015', '34704437', '34755974', '34789878', '34867482', '34900514', '34906559', '34922197', '34939678', '34946813', '34949124', '34984189', '35001637', '35004696', '35029802', '35060639', '35072140', '35085254', '35097354', '35105328', '35124895', '35191151', '35256913', '35270070', '35284180', '35287349', '35323221', '35441179', '35512961', '35538667', '35544167', '35569152', '35592301', '35648012', '35652765', '35671842', '35682501', '35699910', '35807171', '35879202', '35890407', '35980433', '36055776', '36084010', '36084011', '36084012', '36084013', '36084032', '36084041', '36084044', '36131653', '36139471', '36216168', '36255012', '36364145', '36391258', '36479583', '36479718', '36480161', '36789838', '36790238', '36841980', '36850112', '36881197', '37018441', '37072131', '37098734', '37137016', '37198208', '37198276', '37274615', '37276248', '37359672', '37510983', '37533198', '37554574', '37555681', '37555840', '37555921', '37678030', '37710552', '37729015', '37942151', '38054118', '38056308', '38199928', '38650457', '38718554', '38826550', '38995646', '39020252', '39147229', '39149642', '39255922', '39297035', '39297082', '39310114', '39325334', '39341333', '39661419', '39662035', '39665122', '39788462', '39896218', '39911641', '39922842', '39932764', '39946420', '40102775', '40214118', '40296993', '40306241', '40359640', '40405580', '40431063', '40457138', '40464597', '40478233', '40656194', '40801678', '40820889', '40886106', '41080600', '41080602', '41080603', '41428246', '41537694', '41537706', '41537718', '41537721', '41541944', '41541992', '41550869', '41693373', '41721792', '41785154', '42077571', '42077871', '42077909', '42095588', '42139644', '42141216', '42544968', '42688088', '42710276', '42710439', '42710551', '42803248', '42855173', '43043294', '43067105', '43141887']\n"
     ]
    }
   ],
   "source": [
    "import os\n",
    "import requests\n",
    "import json\n",
    "\n",
    "print (refresh_rwgps_routes())\n"
   ]
  },
  {
   "cell_type": "code",
   "execution_count": 2,
   "metadata": {},
   "outputs": [],
   "source": [
    "# Load list of routes for a given user from RWGPS\n",
    "# Downloads routes into directory \".\\tracks\" relative to CWD, only if the GPX file isn't already there\n",
    "# If you have a developer token, this can check many routes, otherwise the public interface seems to load the most recent 25\n",
    "def refresh_rwgps_routes ( directory = 'tracks', user:int = 657096, api_key = '', auth_token = '' ) -> list:\n",
    "\n",
    "    if not(os.path.exists(directory)):\n",
    "        os.mkdir(directory)\n",
    "\n",
    "    # get list of existing routes\n",
    "    files = []\n",
    "    for file in os.listdir(directory):\n",
    "        if os.path.isfile(os.path.join(directory, file)) and file.endswith('.gpx') :\n",
    "            files.append(file[:file.rfind(\".\")])\n",
    "    print (f\"Found {len(files)} existing routes in directory '{directory}'...\")\n",
    "    \n",
    "    # Now, load the latest routes from RWGPS - public method seems to get latest 25 routes... User 657096 is me!\n",
    "    if api_key == \"\":\n",
    "        r = requests.get (f\"https://ridewithgps.com/users/{user}/routes.json\" )\n",
    "    else:\n",
    "        #...or call with credentials can take parameters, but need auth token...\n",
    "        r = requests.get (f\"https://ridewithgps.com/users/{user}/routes.json\", params={\"offset\" : \"0\", \"limit\" : \"500\", \"version\": \"2\", \"apikey\": api_key, \"auth_token\": auth_token } )\n",
    "\n",
    "    if (r.status_code == 200) :\n",
    "        if (api_key == \"\"):\n",
    "            routes = json.loads(r.content)\n",
    "        else:\n",
    "            # return structure is different in authenticated call!\n",
    "            routes = json.loads(r.content)['results']\n",
    "    else:\n",
    "        print(f\"Error: {r.status_code} - {r.content}\")\n",
    "        \n",
    "    # Loop through the routes, and download if we don't have it\n",
    "    print(f\"Checking {len(routes)} routes from RWGPS for missing routes\")\n",
    "    for route in routes:\n",
    "        id = route['id']\n",
    "        if (f'{id}' not in files):\n",
    "            print(f'Route: {id} does not exist - downloading GPX...')\n",
    "            r = requests.get (f\"https://ridewithgps.com/routes/{id}.gpx\")\n",
    "            if (r.status_code == 200):\n",
    "                with open(f\"tracks\\\\{id}.gpx\", \"wb\") as file:\n",
    "                    file.write(r.content)\n",
    "                files.append( str(id) )\n",
    "            else:\n",
    "                print(f'Failed to get route {id}: {r.status_code}')\n",
    "    \n",
    "    return files\n",
    "\n"
   ]
  },
  {
   "cell_type": "code",
   "execution_count": 18,
   "metadata": {},
   "outputs": [],
   "source": [
    "# Use Haversine formula to caucluate distance between 2 points in meters\n",
    "def calculate_distance(lat1, lon1, lat2, lon2):\n",
    "    # approximate radius of Earth in meters\n",
    "    R = 6371000\n",
    "\n",
    "    # convert decimal degrees to radians\n",
    "    lat1_rad = radians(lat1)\n",
    "    lon1_rad = radians(lon1)\n",
    "    lat2_rad = radians(lat2)\n",
    "    lon2_rad = radians(lon2)\n",
    "\n",
    "    # haversine formula\n",
    "    dlon = lon2_rad - lon1_rad\n",
    "    dlat = lat2_rad - lat1_rad\n",
    "    a = sin(dlat / 2) ** 2 + cos(lat1_rad) * cos(lat2_rad) * sin(dlon / 2) ** 2\n",
    "    c = 2 * atan2(sqrt(a), sqrt(1 - a))\n",
    "    distance = R * c\n",
    "\n",
    "    return distance\n"
   ]
  },
  {
   "cell_type": "code",
   "execution_count": 26,
   "metadata": {},
   "outputs": [
    {
     "ename": "SyntaxError",
     "evalue": "invalid syntax (3146297424.py, line 12)",
     "output_type": "error",
     "traceback": [
      "\u001b[1;36m  Cell \u001b[1;32mIn[26], line 12\u001b[1;36m\u001b[0m\n\u001b[1;33m    files =\u001b[0m\n\u001b[1;37m            ^\u001b[0m\n\u001b[1;31mSyntaxError\u001b[0m\u001b[1;31m:\u001b[0m invalid syntax\n"
     ]
    }
   ],
   "source": [
    "import os\n",
    "import requests\n",
    "import json\n",
    "import gpxpy\n",
    "import folium\n",
    "from math import sin, cos, sqrt, atan2, radians\n",
    "\n",
    "# hard wire search criteria (Woodbridge) distance is in metres\n",
    "lat, lon, dist = 52.16344964521758, 0.5069332657261196, 500\n",
    "\n",
    "# refresh our list of tracks from RWGPS\n",
    "files = \n",
    "\n",
    "# OK - now we loop through our tracks and look for one that's near our destination...\n",
    "matched_routes = set() \t# a set to avoid duplicates when adding route matches...\n",
    "print(f\"Now checking for track that's within {dist}m of lat:{lat}, lon:{lon}\")\n",
    "num_tracks = len(os.listdir(directory))\n",
    "count = 0\n",
    "for file in os.listdir(directory):\n",
    "\tcount += 1\n",
    "\tif os.path.isfile(os.path.join(directory, file)) and file.endswith('.gpx') :\n",
    "\t\tprint(f\"Checking files: {file} - {count / num_tracks:.1%}\", end=\"\\r\")\n",
    "\t\twith open(os.path.join(directory, file), 'r') as gpx_file:\n",
    "\t\t\tgpx = gpxpy.parse(gpx_file)\n",
    "\t\t\tfor track in gpx.tracks:\n",
    "\t\t\t\tfor segment in track.segments:\n",
    "\t\t\t\t\tfor point in segment.points:\n",
    "\t\t\t\t\t\tdistance = calculate_distance(lat, lon, point.latitude, point.longitude)\n",
    "\t\t\t\t\t\t#print (f\"lat:{point.latitude}, lon:{point.longitude}, distance:{distance}\")\n",
    "\t\t\t\t\t\tif distance < dist:\n",
    "\t\t\t\t\t\t\t#print (f\"Route {file} matched! - lat:{point.latitude}, lon:{point.longitude}, distance:{distance}\")\n",
    "\t\t\t\t\t\t\tmatched_routes.add(file[:file.rfind(\".\")])\n",
    "\t\t\t\n",
    "print (f\"Matched tracks: {matched_routes}\")\n",
    "\n",
    "# Now make a map with the selected routes on it...\n",
    "map = folium.map()\n",
    "\n",
    "\n",
    "\n",
    "\n",
    "\n",
    "\n"
   ]
  }
 ],
 "metadata": {
  "kernelspec": {
   "display_name": ".venv",
   "language": "python",
   "name": "python3"
  },
  "language_info": {
   "codemirror_mode": {
    "name": "ipython",
    "version": 3
   },
   "file_extension": ".py",
   "mimetype": "text/x-python",
   "name": "python",
   "nbconvert_exporter": "python",
   "pygments_lexer": "ipython3",
   "version": "3.9.1"
  },
  "orig_nbformat": 2
 },
 "nbformat": 4,
 "nbformat_minor": 2
}
